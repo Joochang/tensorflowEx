{
 "cells": [
  {
   "cell_type": "code",
   "execution_count": 1,
   "metadata": {},
   "outputs": [],
   "source": [
    "import tensorflow as tf"
   ]
  },
  {
   "cell_type": "code",
   "execution_count": 2,
   "metadata": {},
   "outputs": [],
   "source": [
    "x_data = [1, 2, 3]\n",
    "y_data = [1, 2, 3]"
   ]
  },
  {
   "cell_type": "code",
   "execution_count": 3,
   "metadata": {},
   "outputs": [],
   "source": [
    "W = tf.Variable(tf.random_normal([1]), name='weight')\n",
    "\n",
    "X = tf.placeholder(tf.float32)\n",
    "Y = tf.placeholder(tf.float32)"
   ]
  },
  {
   "cell_type": "code",
   "execution_count": 4,
   "metadata": {},
   "outputs": [],
   "source": [
    "hypothesis = X * W"
   ]
  },
  {
   "cell_type": "code",
   "execution_count": 5,
   "metadata": {},
   "outputs": [],
   "source": [
    "cost = tf.reduce_mean(tf.square(hypothesis - Y))"
   ]
  },
  {
   "cell_type": "code",
   "execution_count": 6,
   "metadata": {},
   "outputs": [],
   "source": [
    "learning_rate = 0.1\n",
    "gradient = tf.reduce_mean((W * X - Y) * X)\n",
    "descent = W - learning_rate * gradient\n",
    "update = W.assign(descent)"
   ]
  },
  {
   "cell_type": "code",
   "execution_count": 7,
   "metadata": {},
   "outputs": [],
   "source": [
    "sess = tf.Session()\n",
    "sess.run(tf.global_variables_initializer())"
   ]
  },
  {
   "cell_type": "code",
   "execution_count": 8,
   "metadata": {},
   "outputs": [
    {
     "name": "stdout",
     "output_type": "stream",
     "text": [
      "0 0.015331633 [0.942682]\n",
      "1 0.004361009 [0.9694304]\n",
      "2 0.0012404615 [0.9836962]\n",
      "3 0.00035284366 [0.99130464]\n",
      "4 0.00010036549 [0.99536246]\n",
      "5 2.8548247e-05 [0.99752665]\n",
      "6 8.120086e-06 [0.9986809]\n",
      "7 2.309596e-06 [0.9992965]\n",
      "8 6.569448e-07 [0.9996248]\n",
      "9 1.8686377e-07 [0.9997999]\n",
      "10 5.30964e-08 [0.9998933]\n",
      "11 1.511398e-08 [0.9999431]\n",
      "12 4.2990074e-09 [0.99996966]\n",
      "13 1.2156782e-09 [0.99998385]\n",
      "14 3.496119e-10 [0.99999136]\n",
      "15 9.884715e-11 [0.9999954]\n",
      "16 2.8162361e-11 [0.99999756]\n",
      "17 7.716494e-12 [0.9999987]\n",
      "18 2.3874236e-12 [0.9999993]\n",
      "19 5.163277e-13 [0.99999964]\n",
      "20 1.2908193e-13 [0.9999998]\n"
     ]
    }
   ],
   "source": [
    "for step in range(21):\n",
    "    sess.run(update, feed_dict={X: x_data, Y: y_data})\n",
    "    print(step, sess.run(cost, feed_dict={X: x_data, Y: y_data}), sess.run(W))"
   ]
  },
  {
   "cell_type": "code",
   "execution_count": null,
   "metadata": {},
   "outputs": [],
   "source": []
  }
 ],
 "metadata": {
  "kernelspec": {
   "display_name": "Python [conda env:cuda]",
   "language": "python",
   "name": "conda-env-cuda-py"
  },
  "language_info": {
   "codemirror_mode": {
    "name": "ipython",
    "version": 3
   },
   "file_extension": ".py",
   "mimetype": "text/x-python",
   "name": "python",
   "nbconvert_exporter": "python",
   "pygments_lexer": "ipython3",
   "version": "3.5.6"
  }
 },
 "nbformat": 4,
 "nbformat_minor": 2
}
